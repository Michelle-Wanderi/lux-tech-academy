{
 "cells": [
  {
   "cell_type": "code",
   "execution_count": null,
   "id": "2cde4e79",
   "metadata": {},
   "outputs": [],
   "source": [
    "import pyforest\n",
    "import pandas as pd\n",
    "import numpy as np\n",
    "import seaborn as sns\n",
    "plt.style"
   ]
  },
  {
   "cell_type": "code",
   "execution_count": null,
   "id": "0b8d08ce",
   "metadata": {},
   "outputs": [],
   "source": [
    "df = pd.read_csv('IT Salary Survey EU 2020.csv')"
   ]
  },
  {
   "cell_type": "code",
   "execution_count": null,
   "id": "ce3c04a8",
   "metadata": {},
   "outputs": [],
   "source": [
    "df.shape"
   ]
  },
  {
   "cell_type": "code",
   "execution_count": null,
   "id": "0e5117dc",
   "metadata": {},
   "outputs": [],
   "source": []
  },
  {
   "cell_type": "code",
   "execution_count": null,
   "id": "6703180f",
   "metadata": {},
   "outputs": [],
   "source": []
  },
  {
   "cell_type": "code",
   "execution_count": null,
   "id": "5f7f83ba",
   "metadata": {},
   "outputs": [],
   "source": []
  },
  {
   "cell_type": "code",
   "execution_count": null,
   "id": "d88f1a67",
   "metadata": {},
   "outputs": [],
   "source": [
    "data.columns\n"
   ]
  },
  {
   "cell_type": "code",
   "execution_count": null,
   "id": "9d2887ef",
   "metadata": {},
   "outputs": [],
   "source": [
    "Index(['Timestamp', 'Age', 'Gender',\n",
    "       'City', 'Position', 'Position',\n",
    "      'Total years of experience', 'Year of experience in Germany',\n",
    "       'Seniority', 'Your main technology/programming language',\n",
    "       'Other technologues/programming languages you use often',\n",
    "       'Yearly brutto salary(without bonus and stocks) in EUR',\n",
    "       'Yearly bonus + stocks in EUR', 'Annual brutto salary(without bonus and stocks) one year ago. Only answer if staying in the same country',\n",
    "       'Annual bonus + stocks one year ago.Only answer if staying in the same country',\n",
    "       'Number of vacation days', 'Employment status','Contract duration', 'Main language at work',\n",
    "       'Company size', 'Company type', 'Have you lost your job due to the coronavirus outbreak',\n",
    "      'Have you been forced to have a shorter working week(Kurzarbeit)?If yes, how many hours per week','Have you received additional monetary support from your employer due to Work From Home?If yes, how much in 2020 in EUR']\n",
    "    dtype=\"object\")\n",
    "\n"
   ]
  },
  {
   "cell_type": "code",
   "execution_count": null,
   "id": "0fccb1c8",
   "metadata": {},
   "outputs": [],
   "source": [
    "df.head(2)"
   ]
  },
  {
   "cell_type": "code",
   "execution_count": null,
   "id": "fa83f42e",
   "metadata": {},
   "outputs": [],
   "source": []
  },
  {
   "cell_type": "code",
   "execution_count": null,
   "id": "a6422972",
   "metadata": {},
   "outputs": [],
   "source": []
  },
  {
   "cell_type": "code",
   "execution_count": null,
   "id": "2d38e6e8",
   "metadata": {},
   "outputs": [],
   "source": []
  },
  {
   "cell_type": "code",
   "execution_count": null,
   "id": "b615d4c2",
   "metadata": {},
   "outputs": [],
   "source": []
  },
  {
   "cell_type": "code",
   "execution_count": null,
   "id": "5a0a61e4",
   "metadata": {},
   "outputs": [],
   "source": [
    "data.tail()"
   ]
  },
  {
   "cell_type": "code",
   "execution_count": null,
   "id": "67c72b37",
   "metadata": {},
   "outputs": [],
   "source": []
  },
  {
   "cell_type": "code",
   "execution_count": null,
   "id": "7babb52d",
   "metadata": {},
   "outputs": [],
   "source": []
  }
 ],
 "metadata": {
  "kernelspec": {
   "display_name": "Python 3 (ipykernel)",
   "language": "python",
   "name": "python3"
  },
  "language_info": {
   "codemirror_mode": {
    "name": "ipython",
    "version": 3
   },
   "file_extension": ".py",
   "mimetype": "text/x-python",
   "name": "python",
   "nbconvert_exporter": "python",
   "pygments_lexer": "ipython3",
   "version": "3.8.10"
  }
 },
 "nbformat": 4,
 "nbformat_minor": 5
}
